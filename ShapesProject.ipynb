{
  "nbformat": 4,
  "nbformat_minor": 0,
  "metadata": {
    "colab": {
      "provenance": [],
      "gpuType": "T4",
      "authorship_tag": "ABX9TyOizf+x+Xmz9jkOOHCSzM1z",
      "include_colab_link": true
    },
    "kernelspec": {
      "name": "python3",
      "display_name": "Python 3"
    },
    "language_info": {
      "name": "python"
    },
    "accelerator": "GPU"
  },
  "cells": [
    {
      "cell_type": "markdown",
      "metadata": {
        "id": "view-in-github",
        "colab_type": "text"
      },
      "source": [
        "<a href=\"https://colab.research.google.com/github/Nico314159/Shape_Recognition_Learning/blob/main/ShapesProject.ipynb\" target=\"_parent\"><img src=\"https://colab.research.google.com/assets/colab-badge.svg\" alt=\"Open In Colab\"/></a>"
      ]
    },
    {
      "cell_type": "code",
      "source": [
        "from google.colab import drive\n",
        "drive.mount('/content/drive')"
      ],
      "metadata": {
        "colab": {
          "base_uri": "https://localhost:8080/"
        },
        "id": "Rpd-omMAJqQs",
        "outputId": "2c3e25d9-6829-461d-f1eb-c58a16eebf29"
      },
      "execution_count": 1,
      "outputs": [
        {
          "output_type": "stream",
          "name": "stdout",
          "text": [
            "Mounted at /content/drive\n"
          ]
        }
      ]
    },
    {
      "cell_type": "code",
      "source": [
        "from os import symlink\n",
        "import sys\n",
        "import pathlib\n",
        "from pathlib import Path\n",
        "\n",
        "# Dataset comes from: https://www.kaggle.com/datasets/reevald/geometric-shapes-mathematics\n",
        "original_path = Path(\"/content/drive/MyDrive/Machine_Learning_AE_2024/dataset\")\n",
        "new_path = Path(\"/content/project\")\n",
        "\n",
        "try:\n",
        " new_path.symlink_to(original_path)\n",
        " sys.path.insert(0, str(new_path))\n",
        "except FileExistsError: pass"
      ],
      "metadata": {
        "id": "CuMtJSGhHGU6"
      },
      "execution_count": 2,
      "outputs": []
    },
    {
      "cell_type": "code",
      "source": [
        "import pandas as pd\n",
        "import seaborn as sls\n",
        "import numpy as np\n",
        "#import Tensorflow as tf\n"
      ],
      "metadata": {
        "id": "kLOrgCCiKQxO"
      },
      "execution_count": 3,
      "outputs": []
    },
    {
      "cell_type": "code",
      "source": [
        "import cv2\n",
        "from PIL import Image\n",
        "from PIL import ImageMath\n",
        "from IPython.display import display\n",
        "from os import listdir\n",
        "from typing import Final\n",
        "import matplotlib.pyplot as plt\n",
        "\n",
        "import glob\n",
        "import random\n",
        "import base64\n",
        "\n",
        "from io import BytesIO\n",
        "from IPython.display import HTML\n",
        "\n",
        "!pip install natsort[fast]\n",
        "from natsort import os_sorted\n",
        "\n",
        "def absolute_listdir(dataset: str, kind: str):\n",
        "  if dataset not in {'test', 'train', 'val'}:\n",
        "    raise ValueError(\"Invalid dataset\")\n",
        "\n",
        "  kinds = listdir(Path(original_path, dataset))\n",
        "  if kind not in kinds:\n",
        "    raise ValueError(\"Invalid dataset\")\n",
        "\n",
        "  dir = listdir(Path(original_path, dataset, kind))\n",
        "  return [Path(original_path, dataset, kind, f) for f in dir]\n",
        "\n",
        "# paths:dict[str, str] = {}\n",
        "# dirs:dict[str, list] = {}\n",
        "\n",
        "# SHAPES:Final[list[str]] = [\"circle\", \"square\", 'kite']\n",
        "\n",
        "# for s in SHAPES:\n",
        "#  paths[s] = f\"{original_path}/train/{s}\"\n",
        "#  dirs[s] = [path.join(paths[s], f) for f in listdir(paths[s])]\n",
        "\n",
        "# print(dirs[\"circle\"])\n",
        "# # print(len(dirs['circle']))"
      ],
      "metadata": {
        "id": "D7nxL2k9Lfdb",
        "colab": {
          "base_uri": "https://localhost:8080/"
        },
        "outputId": "fa6192e6-9195-4c45-f19a-b557c178ee48"
      },
      "execution_count": 235,
      "outputs": [
        {
          "output_type": "stream",
          "name": "stdout",
          "text": [
            "Requirement already satisfied: natsort[fast] in /usr/local/lib/python3.10/dist-packages (8.4.0)\n",
            "Requirement already satisfied: fastnumbers>=2.0.0 in /usr/local/lib/python3.10/dist-packages (from natsort[fast]) (5.1.0)\n"
          ]
        }
      ]
    },
    {
      "cell_type": "code",
      "source": [
        "pd.set_option('display.max_colwidth', None)\n",
        "\n",
        "def get_thumbnail(path: Path):\n",
        "    i = Image.open(str(path))\n",
        "    i.thumbnail((150, 150), Image.LANCZOS)\n",
        "    return i\n",
        "\n",
        "def image_base64(im):\n",
        "    if isinstance(im, str):\n",
        "        im = get_thumbnail(im)\n",
        "    with BytesIO() as buffer:\n",
        "        im.save(buffer, 'jpeg')\n",
        "        return base64.b64encode(buffer.getvalue()).decode()\n",
        "\n",
        "def image_formatter(im):\n",
        "    return f'<img src=\"data:image/jpeg;base64,{image_base64(im)}\">'"
      ],
      "metadata": {
        "id": "gp_hYWO7Ud0-"
      },
      "execution_count": 236,
      "outputs": []
    },
    {
      "cell_type": "code",
      "source": [
        "global EXCLUDE_SHAPES\n",
        "EXCLUDE_SHAPES = \"rhombus\", \"parallelogram\", \"trapezoid\", \"rectangle\"\n",
        "\n",
        "def create_df(dataset):\n",
        "    if dataset not in {\"test\", \"train\", \"val\"}: raise ValueError()\n",
        "    df = []\n",
        "    data_path = original_path / dataset\n",
        "\n",
        "    global SHAPES\n",
        "    SHAPES = [p.stem for p in data_path.iterdir()\n",
        "                      if p.stem != '.ipynb_checkpoints'\n",
        "                     and p.stem not in set(EXCLUDE_SHAPES)]\n",
        "    print(SHAPES)\n",
        "\n",
        "    for kind_num, kind in enumerate(SHAPES):\n",
        "        for img_path in os_sorted((data_path / kind).iterdir()):\n",
        "            img_path = data_path / kind / img_path\n",
        "            if img_path.suffix == '.jpg':\n",
        "                thumbnail = get_thumbnail(img_path)\n",
        "                df.append([img_path, thumbnail, kind, kind_num])\n",
        "    df = pd.DataFrame(df, columns=['path', 'image', 'kind', 'kind_num'])\n",
        "    return df\n",
        "\n",
        "df_train = create_df('train')\n",
        "# df_train = pd.DataFrame({\"image\": image_list, 'kind': shape_list, 'path': full_path_list})\n"
      ],
      "metadata": {
        "id": "_KfWkHw7OwUr",
        "colab": {
          "base_uri": "https://localhost:8080/"
        },
        "outputId": "f77d8080-462f-4fff-a27d-a631545261c1"
      },
      "execution_count": 237,
      "outputs": [
        {
          "output_type": "stream",
          "name": "stdout",
          "text": [
            "['circle', 'kite', 'triangle', 'square']\n"
          ]
        }
      ]
    },
    {
      "cell_type": "code",
      "source": [
        "def pretty_print(df):\n",
        "  return HTML(df.to_html(formatters={'image': image_formatter}, escape=False))\n",
        "\n",
        "# df_train = df_train.sample(frac=1.0)\n",
        "# pretty_print(df_train['path'])"
      ],
      "metadata": {
        "id": "Yv9WHI92PZu-"
      },
      "execution_count": 238,
      "outputs": []
    },
    {
      "cell_type": "code",
      "source": [
        "from random import randint, choice\n",
        "\n",
        "img = df_train.iloc[5, 0]\n",
        "\n",
        "# Function to read and convert an image from BGR to RGB\n",
        "def imread(img_path: Path):\n",
        "    img = cv2.imread(str(img_path))\n",
        "    img = cv2.cvtColor(img, cv2.COLOR_BGR2RGB)\n",
        "    return img\n",
        "\n",
        "# Function to display an image\n",
        "def imshow(img, figsize=(5, 5)):\n",
        "    plt.figure(figsize=figsize)\n",
        "    plt.imshow(img, cmap='gray')\n",
        "    plt.show()\n",
        "\n",
        "# Function to convert an RGB image to binary\n",
        "def rgb2bin(img_rgb):\n",
        "      img_gray = cv2.cvtColor(img_rgb, cv2.COLOR_RGB2GRAY)\n",
        "      _, img_bin = cv2.threshold(img_gray, 0, 255, cv2.THRESH_OTSU|cv2.THRESH_BINARY_INV)\n",
        "      return img_bin\n",
        "\n",
        "# Function to find the largest contour in an image\n",
        "def find_best_contour(img_rgb):\n",
        "    img_bin = rgb2bin(img_rgb)\n",
        "    contours, _ = cv2.findContours(img_bin, cv2.RETR_EXTERNAL, cv2.CHAIN_APPROX_NONE)\n",
        "    best_contour = max(contours, key=cv2.contourArea)\n",
        "    return best_contour\n",
        "\n",
        "# # Function to draw contours on an image\n",
        "# def draw_contours(img, contours, index=-1, color=(255, 0, 0), thickness=2):\n",
        "#     img_copy = img.copy()\n",
        "#     cv2.drawContours(img_copy, contours, index, color, thickness)\n",
        "#     imshow(img_copy)\n",
        "\n",
        "# Function to create a histogram of chain code directions\n",
        "def chain_hist(img_rgb):\n",
        "    best_contour = find_best_contour(img_rgb)\n",
        "    lookup_table = {(1, 0): 0, (1, -1): 1, (0, -1): 2, (-1, -1): 3,\n",
        "                    (-1, 0): 4, (-1, 1): 5, (0, 1): 6, (1, 1): 7}\n",
        "    hist = np.zeros((8,))\n",
        "    for i in range(len(best_contour)-1):\n",
        "        pt1 = best_contour[i][0]\n",
        "        pt2 = best_contour[i+1][0]\n",
        "        dx = pt2[0] - pt1[0]\n",
        "        dy = pt2[1] - pt1[1]\n",
        "        code = lookup_table[(dx, dy)]\n",
        "        hist[code] += 1\n",
        "    return hist/hist.sum()\n",
        "\n",
        "# Function to extract features from the image paths\n",
        "def extract_features(my_listdir: list[Path]):\n",
        "    # my_listdir = dirs[kind]\n",
        "    if not isinstance(my_listdir, list):\n",
        "      try:my_listdir \\\n",
        "        = my_listdir.tolist();\n",
        "      except: raise TypeError(\"You need to input a list\")\n",
        "    n = len(my_listdir)\n",
        "    X = np.zeros((n, 8))\n",
        "    for i in range(n):\n",
        "        f_path = my_listdir[i]\n",
        "        img = imread(f_path)\n",
        "        features = chain_hist(img)\n",
        "        X[i] = features\n",
        "    return X\n",
        "\n",
        "# Function to predict the class of a given image\n",
        "def predict(model, img):\n",
        "    features = chain_hist(img)\n",
        "    prediction = model.predict([features])[0]\n",
        "    return SHAPES[prediction]\n",
        "\n",
        "# Detect connected components and predict labels\n",
        "def detect_connected_components(img, width_range, height_range):\n",
        "    # for erode_size in range(0, 5):\n",
        "    #   iters = 4\n",
        "    #   kernerl_8_way = np.ones(shape=(erode_size,erode_size))\n",
        "    #   erode   = cv2.erode( img_threshold  , kernel = kernerl_8_way, iterations=iters)\n",
        "    #   dilate  = cv2.dilate(erode          , kernel = kernerl_8_way, iterations=iters)\n",
        "    #   # concat  = np.hstack((concat,img_threshold, erode,dilate))\n",
        "    #   # print(concat.all(0))\n",
        "\n",
        "    nLabels = None\n",
        "    for i in range(10):\n",
        "      binary_img = rgb2bin(img)\n",
        "\n",
        "      img_gray = binary_img\n",
        "      concat = img_gray\n",
        "      img_threshold = np.uint8((img_gray > 128)*255)\n",
        "\n",
        "      nLabels, labels, stats, centroids = cv2.connectedComponentsWithStats(concat, connectivity=8)\n",
        "      # print((nLabels, labels, stats, centroids))\n",
        "      if True:\n",
        "        break\n",
        "      # else:\n",
        "      #   shape = choice(SHAPES)\n",
        "      #   img = imread(original_path / 'test' / f'{shape}' / f'{shape}-{randint(2000, 2499)}.jpg')\n",
        "\n",
        "\n",
        "    centroids = centroids.astype(int)\n",
        "    img_copy = img.copy()\n",
        "    for i in range(1, nLabels):\n",
        "        x, y, w, h, _ = stats[i]\n",
        "        (cx, cy) = centroids[i]\n",
        "        acceptWidth = width_range[0] < w < width_range[1]\n",
        "        acceptHeight = height_range[0] < h < height_range[1]\n",
        "        if acceptWidth and acceptHeight:\n",
        "            shape = img[y:y+h, x:x+w]\n",
        "            # print(img, shape)\n",
        "            label = predict(stacked_model, shape)\n",
        "            cv2.rectangle(img_copy, (x, y), (x+w, y+h), (255, 0, 0), 2)\n",
        "            cv2.putText(img_copy, label, (x, y-4), cv2.FONT_HERSHEY_SIMPLEX, 0.6, (255, 0, 0))\n",
        "    imshow(img_copy, figsize=(10, 10))\n"
      ],
      "metadata": {
        "id": "5g4zTsL4UYJs"
      },
      "execution_count": 239,
      "outputs": []
    },
    {
      "cell_type": "code",
      "source": [
        "# Extract features from the images\n",
        "x_train = extract_features(df_train['path'].tolist())\n",
        "# x_train = [l.tolist() for l in x_train]\n",
        "y_train = df_train['kind_num']\n",
        "\n",
        "df_test = create_df('test')\n",
        "x_test = extract_features(df_test['path'].tolist())\n",
        "# x_test = [l.tolist() for l in x_test]\n",
        "y_test = df_test['kind_num']\n",
        "\n",
        "# merged_df = pd.concat([df_train, df_test])\n",
        "# X = extract_features(merged_df['path'].tolist())\n",
        "# X = np.asarray(l[0:2] for l in X)\n",
        "# Y = merged_df['kind_num']\n",
        "# # print(x_train)"
      ],
      "metadata": {
        "id": "vYV4l0zuguk7",
        "colab": {
          "base_uri": "https://localhost:8080/"
        },
        "outputId": "d0f29063-40be-4673-cf14-d85a62e70dda"
      },
      "execution_count": 240,
      "outputs": [
        {
          "output_type": "stream",
          "name": "stdout",
          "text": [
            "['triangle', 'circle', 'kite', 'square']\n"
          ]
        }
      ]
    },
    {
      "cell_type": "code",
      "source": [
        "print(x_test)"
      ],
      "metadata": {
        "colab": {
          "base_uri": "https://localhost:8080/"
        },
        "id": "WEee3b7LfxJR",
        "outputId": "193bc5d0-6644-41c8-aeba-2869d6e45e47"
      },
      "execution_count": 199,
      "outputs": [
        {
          "output_type": "stream",
          "name": "stdout",
          "text": [
            "[[0.06756757 0.18581081 0.10135135 ... 0.02027027 0.29222973 0.05067568]\n",
            " [0.27586207 0.13793103 0.02586207 ... 0.12931034 0.01724138 0.06896552]\n",
            " [0.01724138 0.01149425 0.25862069 ... 0.01149425 0.27586207 0.20689655]\n",
            " ...\n",
            " [0.21621622 0.04633205 0.2046332  ... 0.05019305 0.1969112  0.03861004]\n",
            " [0.03571429 0.04761905 0.32142857 ... 0.04761905 0.30952381 0.10714286]\n",
            " [0.21449275 0.03478261 0.22028986 ... 0.03768116 0.20869565 0.03768116]]\n"
          ]
        }
      ]
    },
    {
      "cell_type": "code",
      "source": [
        "# from sklearn import neighbors\n",
        "\n",
        "# model2 = neighbors.NearestNeighbors(metric=\"euclidean\").fit(x_train, y_train)\n",
        "\n",
        "# from sklearn.neighbors import KNeighborsClassifier\n",
        "# from sklearn.pipeline import Pipeline\n",
        "# from sklearn.preprocessing import StandardScaler\n",
        "\n",
        "# clf = Pipeline(\n",
        "#     steps=[(\"scaler\", StandardScaler()), (\"knn\", KNeighborsClassifier(n_neighbors=11))]\n",
        "# )"
      ],
      "metadata": {
        "id": "3v1r2nKTTzIj"
      },
      "execution_count": 189,
      "outputs": []
    },
    {
      "cell_type": "code",
      "source": [
        "from sklearn.metrics import accuracy_score\n",
        "from sklearn.model_selection import train_test_split\n",
        "from sklearn.ensemble import StackingClassifier, RandomForestClassifier, GradientBoostingClassifier, ExtraTreesClassifier\n",
        "from xgboost import XGBClassifier\n",
        "\n",
        "# Extract features from the images\n",
        "x = extract_features(df_test['path'])\n",
        "\n",
        "# Labels\n",
        "y = df_test['kind_num']\n",
        "\n",
        "# Splitting the dataset into training and testing sets\n",
        "# x_train = x_train.to_list()\n",
        "# print(len(x_train))\n",
        "# x_train, x_test, y_train, y_test = train_test_split(x, y, test_size=0.2, random_state=22)\n",
        "print(type(x_train))\n",
        "\n",
        "base_models = [\n",
        "    ('rf', RandomForestClassifier(n_estimators=200)),  # Random Forest\n",
        "    ('xgb', XGBClassifier(n_estimators=200)),          # XGBoost\n",
        "    ('et', ExtraTreesClassifier(n_estimators=200))     # Extra Trees\n",
        "]\n",
        "\n",
        "# Define the meta-learner\n",
        "meta_learner = GradientBoostingClassifier(n_estimators=50)  # Gradient Boosting\n",
        "\n",
        "# Initialize the Stacking model\n",
        "stacked_model = StackingClassifier(estimators=base_models, final_estimator=meta_learner, n_jobs=-1, cv=5)\n",
        "\n",
        "# Train the Stacking model\n",
        "stacked_model.fit(x_train, y_train)\n",
        "\n",
        "# Evaluate the model\n",
        "y_pred_train = stacked_model.predict(x_train)\n",
        "y_pred_test = stacked_model.predict(x_test)\n",
        "\n",
        "print(\"Training Accuracy:\", accuracy_score(y_train, y_pred_train))\n",
        "print(\"Testing Accuracy:\", accuracy_score(y_test, y_pred_test))"
      ],
      "metadata": {
        "colab": {
          "base_uri": "https://localhost:8080/"
        },
        "id": "FcatxiDebpU1",
        "outputId": "f7535943-1e62-48b6-ceb2-bcb164f435ff"
      },
      "execution_count": 241,
      "outputs": [
        {
          "output_type": "stream",
          "name": "stdout",
          "text": [
            "<class 'numpy.ndarray'>\n",
            "Training Accuracy: 0.9921465968586387\n",
            "Testing Accuracy: 0.2885\n"
          ]
        }
      ]
    },
    {
      "cell_type": "code",
      "source": [
        "# Example usage\n",
        "from random import randint, choice\n",
        "shape = choice(SHAPES)\n",
        "\n",
        "my_img = imread(original_path / 'test' / f'{shape}' / f'{shape}-{randint(2000, 2499)}.jpg')\n",
        "# imshow(test_img)\n",
        "detect_connected_components(my_img, width_range=(1, 600), height_range=(1, 600))"
      ],
      "metadata": {
        "id": "14ckIdzTKZqa",
        "colab": {
          "base_uri": "https://localhost:8080/",
          "height": 834
        },
        "outputId": "a9bf073b-2b57-47b8-e99b-87aec06d9b0f"
      },
      "execution_count": 247,
      "outputs": [
        {
          "output_type": "display_data",
          "data": {
            "text/plain": [
              "<Figure size 1000x1000 with 1 Axes>"
            ],
            "image/png": "[encoded data removed]"
          },
          "metadata": {}
        }
      ]
    }
  ]
}